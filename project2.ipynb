{
 "cells": [
  {
   "cell_type": "code",
   "execution_count": 3,
   "metadata": {},
   "outputs": [],
   "source": [
    "import gensim \n",
    " \n",
    " "
   ]
  },
  {
   "cell_type": "code",
   "execution_count": 6,
   "metadata": {},
   "outputs": [
    {
     "name": "stdout",
     "output_type": "stream",
     "text": [
      "[['robert', 'spagnoletti', 'attorney', 'general'], ['red', 'phone', 'direct', 'line'], ['march', 'control', 'orders', 'come', 'in', 'as', 'an', 'emergency', 'measure'], ['peyton', 'manning', 'threw', 'for', 'yards', 'and', 'touchdown', 'and', 'the', 'colts', 'held', 'off', 'tennessee', 'for', 'victory', 'sunday', 'when', 'the', 'titans', 'could', 'pull', 'off', 'final', 'drive', 'comeback'], ['by', 'paul', 'casciato', 'and', 'nick', 'antonovics']]\n"
     ]
    }
   ],
   "source": [
    "news_file = 'news.crawl'\n",
    "lines_list =[]\n",
    "with open(news_file) as fp:\n",
    "    line = fp.readline()\n",
    "    while line:\n",
    "        line_list = gensim.utils.simple_preprocess(line)\n",
    "        lines_list.append(line_list)\n",
    "        line = fp.readline()\n",
    "        if len(lines_list) == 5:\n",
    "            print(lines_list)"
   ]
  },
  {
   "cell_type": "code",
   "execution_count": 9,
   "metadata": {},
   "outputs": [],
   "source": [
    "model = gensim.models.Word2Vec(\n",
    "        lines_list,\n",
    "        size=150,\n",
    "        window=5,\n",
    "        min_count=2,\n",
    "        iter=10)\n"
   ]
  },
  {
   "cell_type": "code",
   "execution_count": 10,
   "metadata": {},
   "outputs": [
    {
     "data": {
      "text/plain": [
       "0.3607236"
      ]
     },
     "execution_count": 10,
     "metadata": {},
     "output_type": "execute_result"
    }
   ],
   "source": [
    "model.wv.similarity(w1=\"dirty\",w2=\"clean\")"
   ]
  },
  {
   "cell_type": "code",
   "execution_count": 11,
   "metadata": {},
   "outputs": [
    {
     "data": {
      "text/plain": [
       "0.4487009"
      ]
     },
     "execution_count": 11,
     "metadata": {},
     "output_type": "execute_result"
    }
   ],
   "source": [
    "model.wv.similarity(w1=\"big\",w2=\"large\")"
   ]
  },
  {
   "cell_type": "code",
   "execution_count": 12,
   "metadata": {},
   "outputs": [
    {
     "data": {
      "text/plain": [
       "0.30077633"
      ]
     },
     "execution_count": 12,
     "metadata": {},
     "output_type": "execute_result"
    }
   ],
   "source": [
    "model.wv.similarity(w1=\"big\",w2=\"dirty\")"
   ]
  },
  {
   "cell_type": "code",
   "execution_count": 13,
   "metadata": {},
   "outputs": [
    {
     "data": {
      "text/plain": [
       "0.502217"
      ]
     },
     "execution_count": 13,
     "metadata": {},
     "output_type": "execute_result"
    }
   ],
   "source": [
    "model.wv.similarity(w1=\"big\",w2=\"small\")"
   ]
  },
  {
   "cell_type": "code",
   "execution_count": 14,
   "metadata": {},
   "outputs": [
    {
     "data": {
      "text/plain": [
       "[('respectful', 0.7359877824783325),\n",
       " ('gracious', 0.7108216881752014),\n",
       " ('courteous', 0.6940778493881226),\n",
       " ('rude', 0.6098630428314209),\n",
       " ('thoughtful', 0.6042423844337463)]"
      ]
     },
     "execution_count": 14,
     "metadata": {},
     "output_type": "execute_result"
    }
   ],
   "source": [
    "model.wv.most_similar([\"polite\"],topn=5)"
   ]
  },
  {
   "cell_type": "code",
   "execution_count": 15,
   "metadata": {},
   "outputs": [
    {
     "data": {
      "text/plain": [
       "[('fermanagh', 0.5336632132530212),\n",
       " ('emerald', 0.5323910713195801),\n",
       " ('ventura', 0.5137283802032471),\n",
       " ('dutchess', 0.5104023814201355),\n",
       " ('rockland', 0.5100408792495728)]"
      ]
     },
     "execution_count": 15,
     "metadata": {},
     "output_type": "execute_result"
    }
   ],
   "source": [
    "model.wv.most_similar([\"orange\"],topn=5)"
   ]
  },
  {
   "cell_type": "code",
   "execution_count": null,
   "metadata": {},
   "outputs": [],
   "source": []
  }
 ],
 "metadata": {
  "kernelspec": {
   "display_name": "Python 3",
   "language": "python",
   "name": "python3"
  },
  "language_info": {
   "codemirror_mode": {
    "name": "ipython",
    "version": 3
   },
   "file_extension": ".py",
   "mimetype": "text/x-python",
   "name": "python",
   "nbconvert_exporter": "python",
   "pygments_lexer": "ipython3",
   "version": "3.7.6"
  }
 },
 "nbformat": 4,
 "nbformat_minor": 4
}
